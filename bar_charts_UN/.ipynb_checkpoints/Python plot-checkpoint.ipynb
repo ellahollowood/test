{
 "cells": [
  {
   "cell_type": "code",
   "execution_count": 43,
   "metadata": {},
   "outputs": [],
   "source": [
    "#bokeh basics\n",
    "from bokeh.plotting import figure\n",
    "from bokeh.io import output_notebook, show\n",
    "from bokeh.models import Range1d, PanTool, ResetTool, HoverTool, ColumnDataSource\n",
    "import pandas as pd\n",
    "import numpy as np"
   ]
  },
  {
   "cell_type": "code",
   "execution_count": 21,
   "metadata": {},
   "outputs": [
    {
     "data": {
      "text/html": [
       "<div>\n",
       "<table border=\"1\" class=\"dataframe\">\n",
       "  <thead>\n",
       "    <tr style=\"text-align: right;\">\n",
       "      <th></th>\n",
       "      <th>country</th>\n",
       "      <th>million_people</th>\n",
       "      <th>code</th>\n",
       "    </tr>\n",
       "  </thead>\n",
       "  <tbody>\n",
       "    <tr>\n",
       "      <th>0</th>\n",
       "      <td>Ghana</td>\n",
       "      <td>22.1</td>\n",
       "      <td>GHA</td>\n",
       "    </tr>\n",
       "    <tr>\n",
       "      <th>1</th>\n",
       "      <td>Korea, DPR</td>\n",
       "      <td>22.6</td>\n",
       "      <td>PRK</td>\n",
       "    </tr>\n",
       "    <tr>\n",
       "      <th>2</th>\n",
       "      <td>Sudan</td>\n",
       "      <td>23.2</td>\n",
       "      <td>SDN</td>\n",
       "    </tr>\n",
       "    <tr>\n",
       "      <th>3</th>\n",
       "      <td>Afghanistan</td>\n",
       "      <td>23.4</td>\n",
       "      <td>AFG</td>\n",
       "    </tr>\n",
       "    <tr>\n",
       "      <th>4</th>\n",
       "      <td>Madagascar</td>\n",
       "      <td>24.7</td>\n",
       "      <td>MDG</td>\n",
       "    </tr>\n",
       "  </tbody>\n",
       "</table>\n",
       "</div>"
      ],
      "text/plain": [
       "       country  million_people code\n",
       "0        Ghana            22.1  GHA\n",
       "1   Korea, DPR            22.6  PRK\n",
       "2        Sudan            23.2  SDN\n",
       "3  Afghanistan            23.4  AFG\n",
       "4   Madagascar            24.7  MDG"
      ]
     },
     "execution_count": 21,
     "metadata": {},
     "output_type": "execute_result"
    }
   ],
   "source": [
    "df = pd.read_csv('data.csv')\n",
    "df.head()"
   ]
  },
  {
   "cell_type": "markdown",
   "metadata": {},
   "source": [
    "# Editable variables"
   ]
  },
  {
   "cell_type": "code",
   "execution_count": 12,
   "metadata": {},
   "outputs": [],
   "source": [
    "filename = 'un_bar.html'\n",
    "\n",
    "page_width = 596\n",
    "page_height = 160"
   ]
  },
  {
   "cell_type": "markdown",
   "metadata": {},
   "source": [
    "# Bar chart code"
   ]
  },
  {
   "cell_type": "code",
   "execution_count": 44,
   "metadata": {},
   "outputs": [],
   "source": [
    "#source\n",
    "source = ColumnDataSource(df)\n",
    "countries = df['code'].tolist()\n",
    "\n",
    "#Setup output file\n",
    "#output_file(filename)\n",
    "\n",
    "#Set up figure\n",
    "f = figure(x_range = countries)\n",
    "\n",
    "f.plot_width = page_width\n",
    "f.plot_height = page_height\n",
    "\n",
    "f.vbar(x = 'index', width = 0.5, top = 'million_people', color=\"#F8B617\", source = source)\n",
    "\n",
    "show(f)"
   ]
  },
  {
   "cell_type": "code",
   "execution_count": 17,
   "metadata": {},
   "outputs": [],
   "source": [
    "from bokeh.plotting import figure, output_file, show\n",
    "\n",
    "plot = figure(plot_width=300, plot_height=300)\n",
    "plot.vbar(x=[5, 6, 7], width=0.5, bottom=0, top=[1,2,3], color=\"#CAB2D6\")\n",
    "\n",
    "show(plot)"
   ]
  },
  {
   "cell_type": "code",
   "execution_count": null,
   "metadata": {},
   "outputs": [],
   "source": [
    "#Style the axes\n",
    "f.axis.minor_tick_line_color = \"blue\"\n",
    "f.yaxis.major_label_orientation = \"vertical\"\n",
    "f.xaxis.visible = True\n",
    "f.axis.minor_tick_in = -6\n",
    "f.xaxis.axis_label = \"Petal Length\"\n",
    "f.yaxis.axis_label = \"Petal Width\"\n",
    "f.axis.axis_label_text_color = 'blue'\n",
    "f.axis.major_label_text_color = \"blue\""
   ]
  }
 ],
 "metadata": {
  "kernelspec": {
   "display_name": "Python 3",
   "language": "python",
   "name": "python3"
  },
  "language_info": {
   "codemirror_mode": {
    "name": "ipython",
    "version": 3
   },
   "file_extension": ".py",
   "mimetype": "text/x-python",
   "name": "python",
   "nbconvert_exporter": "python",
   "pygments_lexer": "ipython3",
   "version": "3.6.0"
  }
 },
 "nbformat": 4,
 "nbformat_minor": 2
}
